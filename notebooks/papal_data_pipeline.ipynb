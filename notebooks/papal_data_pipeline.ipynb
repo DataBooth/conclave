{
 "cells": [
  {
   "cell_type": "code",
   "execution_count": 1,
   "id": "Hbol",
   "metadata": {},
   "outputs": [],
   "source": [
    "import re\n",
    "from datetime import datetime\n",
    "from pathlib import Path\n",
    "\n",
    "import duckdb\n",
    "import httpx\n",
    "import marimo as mo\n",
    "import pandas as pd\n",
    "import sqlglot\n",
    "from loguru import logger\n",
    "from sqlglot import exp"
   ]
  },
  {
   "cell_type": "code",
   "execution_count": null,
   "id": "vblA",
   "metadata": {},
   "outputs": [],
   "source": [
    "SQL_PATH = Path.cwd().parent / \"sql\"\n",
    "DATA_PATH = Path.cwd().parent / \"data\"\n",
    "\n",
    "# PAPAL_DUCKDB = DATA_PATH / \"papal_data.duckdb\""
   ]
  },
  {
   "cell_type": "code",
   "execution_count": 3,
   "id": "0e3fd1e8",
   "metadata": {},
   "outputs": [],
   "source": [
    "def is_sql_safe(sql: str) -> bool:\n",
    "    \"\"\"\n",
    "    Checks SQL for dangerous statements using SQLGlot.\n",
    "    Flags:\n",
    "      - DROP TABLE\n",
    "      - DROP DATABASE\n",
    "      - TRUNCATE\n",
    "      - ALTER USER\n",
    "      - UPDATE or DELETE without WHERE clause\n",
    "    Returns:\n",
    "      True if SQL is considered safe, False otherwise.\n",
    "    \"\"\"\n",
    "    try:\n",
    "        statements = sqlglot.parse(sql)\n",
    "    except Exception as e:\n",
    "        print(f\"SQL parsing error: {e}\")\n",
    "        return False\n",
    "\n",
    "    for stmt in statements:\n",
    "        # DROP TABLE or DROP DATABASE\n",
    "        if isinstance(stmt, exp.Drop):\n",
    "            drop_type = stmt.args.get(\"kind\")\n",
    "            if drop_type and drop_type.upper() in {\"TABLE\", \"DATABASE\"}:\n",
    "                print(f\"Warning: Detected DROP {drop_type.upper()} statement.\")\n",
    "                return False\n",
    "        # TRUNCATE\n",
    "        if isinstance(stmt, exp.Command):\n",
    "            command = stmt.args.get(\"this\")\n",
    "            if command and str(command).upper() == \"TRUNCATE\":\n",
    "                print(\"Warning: Detected TRUNCATE statement.\")\n",
    "                return False\n",
    "        # ALTER USER\n",
    "        if isinstance(stmt, exp.Alter):\n",
    "            kind = stmt.args.get(\"kind\")\n",
    "            if kind and str(kind).upper() == \"USER\":\n",
    "                print(\"Warning: Detected ALTER USER statement.\")\n",
    "                return False\n",
    "        # UPDATE/DELETE without WHERE\n",
    "        if isinstance(stmt, (exp.Update, exp.Delete)):\n",
    "            if not stmt.args.get(\"where\"):\n",
    "                print(f\"Warning: {stmt.key.upper()} statement without WHERE clause detected.\")\n",
    "                return False\n",
    "\n",
    "    return True\n"
   ]
  },
  {
   "cell_type": "code",
   "execution_count": 4,
   "id": "d397ff52",
   "metadata": {},
   "outputs": [],
   "source": [
    "def run_sql_file(con, sql_path, params=None, check_safety=True, from_loader=False):\n",
    "    \"\"\"\n",
    "    Executes SQL statements from a file on the given DuckDB connection.\n",
    "\n",
    "    Args:\n",
    "        con: DuckDB connection object.\n",
    "        sql_path: Path to the .sql file.\n",
    "        params: Optional dict for parameter substitution (using {key} syntax).\n",
    "        check_safety: If True, checks for dangerous SQL statements.\n",
    "        from_loader: If True, disables safety checks since `load_popes_to_duckdb` manages it.\n",
    "    \"\"\"\n",
    "    sql_path = Path(sql_path)\n",
    "    sql = sql_path.read_text(encoding=\"utf-8\")\n",
    "    if params:\n",
    "        sql = sql.format(**params)\n",
    "\n",
    "    if from_loader:\n",
    "        logger.info(\"Skipping safety check as run from load_popes_to_duckdb\")\n",
    "    elif check_safety and not is_sql_safe(sql):\n",
    "        raise ValueError(\"Aborting: potentially dangerous SQL detected.\")\n",
    "\n",
    "    try:\n",
    "        con.execute(sql)\n",
    "        logger.info(f\"Successfully executed SQL from {sql_path}\")\n",
    "    except Exception as e:\n",
    "        logger.error(f\"SQL execution error: {e}\")\n",
    "        raise\n",
    "\n"
   ]
  },
  {
   "cell_type": "code",
   "execution_count": 5,
   "id": "48044fa8",
   "metadata": {},
   "outputs": [],
   "source": [
    "def get_popes_csv_snapshot(force_refresh=False, snapshot_dir=DATA_PATH / \"snapshots\"):\n",
    "    url = \"https://raw.githubusercontent.com/ksreyes/popes/master/popes.csv\"\n",
    "    now = datetime.now()\n",
    "    timestamp = now.strftime(\"%Y-%m-%d_%H%M\")\n",
    "    snapshot_dir = Path(snapshot_dir)\n",
    "    snapshot_dir.mkdir(parents=True, exist_ok=True)\n",
    "    snapshot_file = snapshot_dir / f\"popes_{timestamp}.csv\"    # CSV name format: popes_YYYY-MM-DD_HHMM.csv\n",
    "\n",
    "    # Find latest snapshot if not force_refresh\n",
    "    if not force_refresh:\n",
    "        candidates = sorted(snapshot_dir.glob(\"popes_*.csv\"), reverse=True)\n",
    "        if candidates:\n",
    "            logger.info(f\"Using cached snapshot: {candidates[0]}\")\n",
    "            return candidates[0]\n",
    "    \n",
    "    # Download and save snapshot\n",
    "    logger.info(f\"Downloading latest CSV from {url}\")\n",
    "    resp = httpx.get(url)\n",
    "    resp.raise_for_status()\n",
    "    snapshot_file.write_bytes(resp.content)\n",
    "    logger.info(f\"Saved snapshot: {snapshot_file}\")\n",
    "    return snapshot_file\n"
   ]
  },
  {
   "cell_type": "code",
   "execution_count": 6,
   "id": "b3e7cf2d",
   "metadata": {},
   "outputs": [],
   "source": [
    "def load_popes_to_duckdb(\n",
    "    con: duckdb.DuckDBPyConnection,\n",
    "    csv_path: Path,\n",
    "    sql_path: Path = SQL_PATH / \"create_popes_table.sql\",\n",
    "    force_refresh: bool = False\n",
    ") -> tuple[int, pd.DataFrame]:\n",
    "    \"\"\"\n",
    "    Loads popes data into DuckDB using a SQL file template with safety checks.\n",
    "    \n",
    "    Args:\n",
    "        con: DuckDB connection\n",
    "        csv_path: Path to CSV snapshot\n",
    "        sql_path: Path to SQL template file (default: create_popes_table.sql)\n",
    "        force_refresh: If True, re-creates sequence and table\n",
    "    \n",
    "    Returns:\n",
    "        Tuple of (row_count, dataframe)\n",
    "    \"\"\"\n",
    "    logger.info(f\"Starting load_popes_to_duckdb with csv_path={csv_path}, force_refresh={force_refresh}\")\n",
    "    \n",
    "    if force_refresh:\n",
    "        logger.info(\"force_refresh is True: dropping sequence and table\")\n",
    "        con.execute(\"DROP SEQUENCE IF EXISTS popes_id_seq;\")\n",
    "        con.execute(\"DROP TABLE IF EXISTS popes;\")  # Drop the table if refresh\n",
    "    \n",
    "    # Parameter substitution for SQL template\n",
    "    params = {\"csv_path\": csv_path.as_posix()}\n",
    "    \n",
    "    # Execute SQL file to CREATE the table\n",
    "    logger.info(f\"Executing SQL file: {sql_path}\")\n",
    "    run_sql_file(con, sql_path, params=params, check_safety=False, from_loader=True)\n",
    "    \n",
    "    # Return results\n",
    "    row_count_df = con.sql(\"SELECT COUNT(*) FROM popes\").df()\n",
    "    row_count = row_count_df.iloc[0, 0]\n",
    "    logger.info(f\"Loaded {row_count} rows into popes table\")\n",
    "    \n",
    "    df = con.sql(\"SELECT * FROM popes\").df()\n",
    "    logger.info(f\"Returning dataframe with shape: {df.shape}\")\n",
    "    \n",
    "    return (row_count, df)\n"
   ]
  },
  {
   "cell_type": "markdown",
   "id": "MJUe",
   "metadata": {},
   "source": [
    "# Papal Data Pipeline Notebook\n",
    "\n",
    "This notebook documents and executes the process of loading, cleaning, and previewing papal data tables into a persistent DuckDB database.\n",
    "\n",
    "**Data sources are cited with each table.**\n",
    "\n",
    "> **Last updated:** 2025-04-21"
   ]
  },
  {
   "cell_type": "markdown",
   "id": "bkHC",
   "metadata": {},
   "source": [
    "## 1. Popes Table\n",
    "\n",
    "**Source:** [ksreyes/popes (GitHub)](https://github.com/ksreyes/popes)\n",
    "**Raw CSV:** https://raw.githubusercontent.com/ksreyes/popes/master/popes.csv\n",
    "\n",
    "*Note: This table includes all popes from St. Peter to Pope Francis.*"
   ]
  },
  {
   "cell_type": "code",
   "execution_count": 7,
   "id": "97184770",
   "metadata": {},
   "outputs": [
    {
     "name": "stderr",
     "output_type": "stream",
     "text": [
      "\u001b[32m2025-04-22 13:33:27.376\u001b[0m | \u001b[1mINFO    \u001b[0m | \u001b[36m__main__\u001b[0m:\u001b[36m<module>\u001b[0m:\u001b[36m3\u001b[0m - \u001b[1m/Users/mjboothaus/code/github/databooth/conclave/data/snapshots\u001b[0m\n",
      "\u001b[32m2025-04-22 13:33:27.378\u001b[0m | \u001b[1mINFO    \u001b[0m | \u001b[36m__main__\u001b[0m:\u001b[36mget_popes_csv_snapshot\u001b[0m:\u001b[36m13\u001b[0m - \u001b[1mUsing cached snapshot: /Users/mjboothaus/code/github/databooth/conclave/data/snapshots/popes_2025-04-22_1231.csv\u001b[0m\n"
     ]
    }
   ],
   "source": [
    "# Get snapshot (set force_refresh=True to fetch a new one)\n",
    "\n",
    "logger.info((DATA_PATH / \"snapshots\"))\n",
    "\n",
    "assert (DATA_PATH / \"snapshots\").exists()\n",
    "\n",
    "csv_file = get_popes_csv_snapshot(force_refresh=False, snapshot_dir=DATA_PATH / \"snapshots\")"
   ]
  },
  {
   "cell_type": "code",
   "execution_count": null,
   "id": "93eabad3",
   "metadata": {},
   "outputs": [],
   "source": [
    "#con = duckdb.connect(str(PAPAL_DUCKDB))\n",
    "con = duckdb.connect()   # Memory database"
   ]
  },
  {
   "cell_type": "code",
   "execution_count": 9,
   "id": "aa771607",
   "metadata": {},
   "outputs": [
    {
     "name": "stderr",
     "output_type": "stream",
     "text": [
      "\u001b[32m2025-04-22 13:33:27.401\u001b[0m | \u001b[1mINFO    \u001b[0m | \u001b[36m__main__\u001b[0m:\u001b[36mload_popes_to_duckdb\u001b[0m:\u001b[36m19\u001b[0m - \u001b[1mStarting load_popes_to_duckdb with csv_path=/Users/mjboothaus/code/github/databooth/conclave/data/snapshots/popes_2025-04-22_1231.csv, force_refresh=False\u001b[0m\n",
      "\u001b[32m2025-04-22 13:33:27.402\u001b[0m | \u001b[1mINFO    \u001b[0m | \u001b[36m__main__\u001b[0m:\u001b[36mload_popes_to_duckdb\u001b[0m:\u001b[36m30\u001b[0m - \u001b[1mExecuting SQL file: /Users/mjboothaus/code/github/databooth/conclave/sql/create_popes_table.sql\u001b[0m\n",
      "\u001b[32m2025-04-22 13:33:27.402\u001b[0m | \u001b[1mINFO    \u001b[0m | \u001b[36m__main__\u001b[0m:\u001b[36mrun_sql_file\u001b[0m:\u001b[36m18\u001b[0m - \u001b[1mSkipping safety check as run from load_popes_to_duckdb\u001b[0m\n",
      "\u001b[32m2025-04-22 13:33:27.429\u001b[0m | \u001b[31m\u001b[1mERROR   \u001b[0m | \u001b[36m__main__\u001b[0m:\u001b[36mrun_sql_file\u001b[0m:\u001b[36m26\u001b[0m - \u001b[31m\u001b[1mSQL execution error: Catalog Error: an index with that name already exists for this table: PRIMARY_popes_id\u001b[0m\n"
     ]
    },
    {
     "ename": "CatalogException",
     "evalue": "Catalog Error: an index with that name already exists for this table: PRIMARY_popes_id",
     "output_type": "error",
     "traceback": [
      "\u001b[31m---------------------------------------------------------------------------\u001b[39m",
      "\u001b[31mCatalogException\u001b[39m                          Traceback (most recent call last)",
      "\u001b[36mCell\u001b[39m\u001b[36m \u001b[39m\u001b[32mIn[9]\u001b[39m\u001b[32m, line 1\u001b[39m\n\u001b[32m----> \u001b[39m\u001b[32m1\u001b[39m n_pope, pope_df = \u001b[43mload_popes_to_duckdb\u001b[49m\u001b[43m(\u001b[49m\u001b[43mcon\u001b[49m\u001b[43m,\u001b[49m\u001b[43m \u001b[49m\u001b[43mcsv_file\u001b[49m\u001b[43m)\u001b[49m\n\u001b[32m      2\u001b[39m logger.info(\u001b[33mf\u001b[39m\u001b[33m\"\u001b[39m\u001b[33mpopes table: \u001b[39m\u001b[38;5;132;01m{\u001b[39;00mn_pope\u001b[38;5;132;01m}\u001b[39;00m\u001b[33m rows\u001b[39m\u001b[33m\"\u001b[39m)\n",
      "\u001b[36mCell\u001b[39m\u001b[36m \u001b[39m\u001b[32mIn[6]\u001b[39m\u001b[32m, line 31\u001b[39m, in \u001b[36mload_popes_to_duckdb\u001b[39m\u001b[34m(con, csv_path, sql_path, force_refresh)\u001b[39m\n\u001b[32m     29\u001b[39m \u001b[38;5;66;03m# Execute SQL file to CREATE the table\u001b[39;00m\n\u001b[32m     30\u001b[39m logger.info(\u001b[33mf\u001b[39m\u001b[33m\"\u001b[39m\u001b[33mExecuting SQL file: \u001b[39m\u001b[38;5;132;01m{\u001b[39;00msql_path\u001b[38;5;132;01m}\u001b[39;00m\u001b[33m\"\u001b[39m)\n\u001b[32m---> \u001b[39m\u001b[32m31\u001b[39m \u001b[43mrun_sql_file\u001b[49m\u001b[43m(\u001b[49m\u001b[43mcon\u001b[49m\u001b[43m,\u001b[49m\u001b[43m \u001b[49m\u001b[43msql_path\u001b[49m\u001b[43m,\u001b[49m\u001b[43m \u001b[49m\u001b[43mparams\u001b[49m\u001b[43m=\u001b[49m\u001b[43mparams\u001b[49m\u001b[43m,\u001b[49m\u001b[43m \u001b[49m\u001b[43mcheck_safety\u001b[49m\u001b[43m=\u001b[49m\u001b[38;5;28;43;01mFalse\u001b[39;49;00m\u001b[43m,\u001b[49m\u001b[43m \u001b[49m\u001b[43mfrom_loader\u001b[49m\u001b[43m=\u001b[49m\u001b[38;5;28;43;01mTrue\u001b[39;49;00m\u001b[43m)\u001b[49m\n\u001b[32m     33\u001b[39m \u001b[38;5;66;03m# Return results\u001b[39;00m\n\u001b[32m     34\u001b[39m row_count_df = con.sql(\u001b[33m\"\u001b[39m\u001b[33mSELECT COUNT(*) FROM popes\u001b[39m\u001b[33m\"\u001b[39m).df()\n",
      "\u001b[36mCell\u001b[39m\u001b[36m \u001b[39m\u001b[32mIn[4]\u001b[39m\u001b[32m, line 23\u001b[39m, in \u001b[36mrun_sql_file\u001b[39m\u001b[34m(con, sql_path, params, check_safety, from_loader)\u001b[39m\n\u001b[32m     20\u001b[39m     \u001b[38;5;28;01mraise\u001b[39;00m \u001b[38;5;167;01mValueError\u001b[39;00m(\u001b[33m\"\u001b[39m\u001b[33mAborting: potentially dangerous SQL detected.\u001b[39m\u001b[33m\"\u001b[39m)\n\u001b[32m     22\u001b[39m \u001b[38;5;28;01mtry\u001b[39;00m:\n\u001b[32m---> \u001b[39m\u001b[32m23\u001b[39m     \u001b[43mcon\u001b[49m\u001b[43m.\u001b[49m\u001b[43mexecute\u001b[49m\u001b[43m(\u001b[49m\u001b[43msql\u001b[49m\u001b[43m)\u001b[49m\n\u001b[32m     24\u001b[39m     logger.info(\u001b[33mf\u001b[39m\u001b[33m\"\u001b[39m\u001b[33mSuccessfully executed SQL from \u001b[39m\u001b[38;5;132;01m{\u001b[39;00msql_path\u001b[38;5;132;01m}\u001b[39;00m\u001b[33m\"\u001b[39m)\n\u001b[32m     25\u001b[39m \u001b[38;5;28;01mexcept\u001b[39;00m \u001b[38;5;167;01mException\u001b[39;00m \u001b[38;5;28;01mas\u001b[39;00m e:\n",
      "\u001b[31mCatalogException\u001b[39m: Catalog Error: an index with that name already exists for this table: PRIMARY_popes_id"
     ]
    }
   ],
   "source": [
    "n_pope, pope_df = load_popes_to_duckdb(con, csv_file)\n",
    "logger.info(f\"popes table: {n_pope} rows\")"
   ]
  },
  {
   "cell_type": "code",
   "execution_count": null,
   "id": "d813787e",
   "metadata": {},
   "outputs": [],
   "source": [
    "# Preview (latest Popes first)\n",
    "\n",
    "con.sql(\"SELECT * FROM popes ORDER BY number DESC LIMIT 5\").df()"
   ]
  },
  {
   "cell_type": "markdown",
   "id": "PKri",
   "metadata": {},
   "source": [
    "### `popes` Table pipeline\n",
    "\n",
    "This DuckDB pipeline robustly ingests and cleans the popes dataset in a single step, handling reserved keywords, missing values, and date conversions automatically during import, resulting in a reliable and analysis-ready table.\n",
    "\n",
    "The query creates (or replaces) the `popes` table in DuckDB by reading directly from a remote CSV file and performing several key data cleaning and transformation steps \"on-the-fly\":\n",
    "\n",
    "```sql\n",
    "CREATE OR REPLACE TABLE popes AS\n",
    "SELECT\n",
    "number,\n",
    "name_full,\n",
    "name,\n",
    "suffix,\n",
    "canonization,\n",
    "CAST(birth AS DATE) AS birth_date,\n",
    "CAST(start AS DATE) AS reign_start,\n",
    "CAST(\"end\" AS DATE) AS reign_end,\n",
    "age_start,\n",
    "age_end,\n",
    "tenure\n",
    "FROM read_csv(\n",
    "'https://raw.githubusercontent.com/ksreyes/popes/master/popes.csv',\n",
    "nullstr=['NA']\n",
    ");\n",
    "```\n",
    "\n",
    "#### Issues addressed in this SQL (DuckDB) pipeline\n",
    "\n",
    "- **Reserved Keyword Handling:**\n",
    "  The original CSV uses `end` as a column name, which is a reserved SQL keyword. By quoting it as `\"end\"` in the query, DuckDB is able to correctly reference and process this column without syntax errors.\n",
    "\n",
    "- **Missing Value Normalisation:**\n",
    "  The CSV uses the string `\"NA\"` to represent missing values. By specifying `nullstr=['NA']`, DuckDB automatically converts all `\"NA\"` entries to SQL `NULL`, preventing type conversion errors and ensuring missing data is handled consistently.\n",
    "\n",
    "- **Date Type Conversion:**\n",
    "  The `birth`, `start`, and `end` columns are stored as ISO 8601 timestamp strings in the CSV. The query uses `CAST(... AS DATE)` to convert these columns to DuckDB's native `DATE` type, enabling accurate date-based calculations and queries.\n",
    "\n",
    "- **On-the-fly Schema Definition:**\n",
    "  By selecting and casting columns within the `SELECT` statement, the pipeline defines a clean schema for the `popes` table, ensuring that each column has the correct type and name upon import.\n",
    "\n",
    "- **Idempotent Table Creation:**\n",
    "  The use of `CREATE OR REPLACE TABLE` ensures that the pipeline can be rerun safely: if the table already exists, it will be replaced, keeping the workflow reproducible and up-to-date."
   ]
  },
  {
   "cell_type": "code",
   "execution_count": null,
   "id": "Xref",
   "metadata": {},
   "outputs": [],
   "source": [
    "pope_df"
   ]
  },
  {
   "cell_type": "markdown",
   "id": "SFPL",
   "metadata": {},
   "source": [
    "### Custom update data for recent death of  Pope Francis' End of reign date (21 April 2025)"
   ]
  },
  {
   "cell_type": "code",
   "execution_count": null,
   "id": "49a198d1",
   "metadata": {},
   "outputs": [],
   "source": [
    "def update_pope_francis_end_of_reign(con, sql_path=SQL_PATH / \"update_pope_francis_details.sql\"):\n",
    "    logger.info(\"Starting update_pope_francis_end_of_reign\")\n",
    "    # Find Francis's unique id\n",
    "    logger.info(\"Looking up Pope Francis' unique ID\")\n",
    "    df = con.execute(\"SELECT id FROM popes WHERE name = 'Francis'\").fetchdf()\n",
    "    if len(df) != 1:\n",
    "        raise ValueError(f\"Expected one Pope Francis, found {len(df)} rows.\")\n",
    "    pope_id = int(df.iloc[0]['id'])\n",
    "    logger.info(f\"Pope Francis' ID: {pope_id}\")\n",
    "    logger.info(f\"Executing SQL from {sql_path} with pope_id={pope_id}\")\n",
    "    run_sql_file(con, sql_path, params={\"pope_francis_id\": pope_id})\n",
    "    logger.info(\"Successfully updated Pope Francis' end of reign details\")\n",
    "    return None\n"
   ]
  },
  {
   "cell_type": "code",
   "execution_count": null,
   "id": "BYtC",
   "metadata": {},
   "outputs": [],
   "source": [
    "update_pope_francis_end_of_reign(con)\n"
   ]
  },
  {
   "cell_type": "code",
   "execution_count": null,
   "id": "d90ea8ed",
   "metadata": {},
   "outputs": [],
   "source": [
    "pope_francis_row = con.execute(\"SELECT * FROM popes WHERE name = 'Francis'\").df()"
   ]
  },
  {
   "cell_type": "code",
   "execution_count": null,
   "id": "RGSE",
   "metadata": {},
   "outputs": [],
   "source": [
    "pope_francis_row"
   ]
  },
  {
   "cell_type": "markdown",
   "id": "Kclp",
   "metadata": {},
   "source": [
    "## 2. Conclaves Table\n",
    "\n",
    "**Source:** [Wikipedia: List of Papal Conclaves](https://en.wikipedia.org/wiki/List_of_papal_conclaves)\n",
    "*(You may need to pre-process or find a CSV version of this data. For demonstration, a placeholder URL is used below.)*"
   ]
  },
  {
   "cell_type": "code",
   "execution_count": null,
   "id": "emfo",
   "metadata": {},
   "outputs": [],
   "source": [
    "conclaves_csv_url = \"https://raw.githubusercontent.com/YOUR-REPO/conclaves.csv\"  # Replace with actual\n",
    "try:\n",
    "    con.execute(f\"\"\"\n",
    "        CREATE OR REPLACE TABLE conclaves AS\n",
    "        FROM '{conclaves_csv_url}'\n",
    "    \"\"\")\n",
    "    conclaves_df = con.execute(\"SELECT * FROM conclaves LIMIT 5\").fetchdf()\n",
    "except Exception as e:\n",
    "    conclaves_df = f\"Could not load conclaves table: {e}\""
   ]
  },
  {
   "cell_type": "code",
   "execution_count": null,
   "id": "Hstk",
   "metadata": {},
   "outputs": [],
   "source": [
    "conclaves_df"
   ]
  },
  {
   "cell_type": "markdown",
   "id": "nWHF",
   "metadata": {},
   "source": [
    "## 3. Cardinals Table\n",
    "\n",
    "**Source:** [Wikipedia: List of current cardinals](https://en.wikipedia.org/wiki/List_of_current_cardinals)\n",
    "*(You may need to pre-process or find a CSV version of this data. For demonstration, a placeholder URL is used below.)*"
   ]
  },
  {
   "cell_type": "code",
   "execution_count": null,
   "id": "iLit",
   "metadata": {},
   "outputs": [],
   "source": [
    "cardinals_csv_url = \"https://raw.githubusercontent.com/YOUR-REPO/cardinals.csv\"  # Replace with actual\n",
    "try:\n",
    "    con.execute(f\"\"\"\n",
    "        CREATE OR REPLACE TABLE cardinals AS\n",
    "        FROM '{cardinals_csv_url}'\n",
    "    \"\"\")\n",
    "    cardinals_df = con.execute(\"SELECT * FROM cardinals LIMIT 5\").fetchdf()\n",
    "except Exception as e:\n",
    "    cardinals_df = f\"Could not load cardinals table: {e}\""
   ]
  },
  {
   "cell_type": "code",
   "execution_count": null,
   "id": "ZHCJ",
   "metadata": {},
   "outputs": [],
   "source": [
    "cardinals_df"
   ]
  },
  {
   "cell_type": "markdown",
   "id": "ROlb",
   "metadata": {},
   "source": [
    "## 4. Papal Documents Table\n",
    "\n",
    "**Source:** [Vatican.va](https://www.vatican.va/content/vatican/en.html)\n",
    "*(You may need to pre-process or find a CSV version of this data. For demonstration, a placeholder URL is used below.)*"
   ]
  },
  {
   "cell_type": "code",
   "execution_count": null,
   "id": "qnkX",
   "metadata": {},
   "outputs": [],
   "source": [
    "documents_csv_url = \"https://raw.githubusercontent.com/YOUR-REPO/papal_documents.csv\"  # Replace with actual\n",
    "try:\n",
    "    con.execute(f\"\"\"\n",
    "        CREATE OR REPLACE TABLE papal_documents AS\n",
    "        FROM '{documents_csv_url}'\n",
    "    \"\"\")\n",
    "    documents_df = con.execute(\"SELECT * FROM papal_documents LIMIT 5\").fetchdf()\n",
    "except Exception as e:\n",
    "    documents_df = f\"Could not load papal_documents table: {e}\""
   ]
  },
  {
   "cell_type": "code",
   "execution_count": null,
   "id": "TqIu",
   "metadata": {},
   "outputs": [],
   "source": [
    "documents_df"
   ]
  },
  {
   "cell_type": "markdown",
   "id": "Vxnm",
   "metadata": {},
   "source": [
    "## Data Sources and References\n",
    "\n",
    "- **Popes:** [ksreyes/popes (GitHub)](https://github.com/ksreyes/popes)\n",
    "- **Conclaves:** [Wikipedia: List of Papal Conclaves](https://en.wikipedia.org/wiki/List_of_papal_conclaves) *(CSV needed)*\n",
    "- **Cardinals:** [Wikipedia: List of current cardinals](https://en.wikipedia.org/wiki/List_of_current_cardinals) *(CSV needed)*\n",
    "- **Papal Documents:** [Vatican.va](https://www.vatican.va/content/vatican/en.html) *(CSV needed)*\n",
    "\n",
    "> Please ensure all data sources are cited and that you have permission to use and share these datasets."
   ]
  },
  {
   "cell_type": "code",
   "execution_count": null,
   "id": "d34c4991",
   "metadata": {},
   "outputs": [],
   "source": [
    "con.close()"
   ]
  },
  {
   "cell_type": "code",
   "execution_count": null,
   "id": "170206f3",
   "metadata": {},
   "outputs": [],
   "source": []
  }
 ],
 "metadata": {
  "kernelspec": {
   "display_name": ".venv",
   "language": "python",
   "name": "python3"
  },
  "language_info": {
   "codemirror_mode": {
    "name": "ipython",
    "version": 3
   },
   "file_extension": ".py",
   "mimetype": "text/x-python",
   "name": "python",
   "nbconvert_exporter": "python",
   "pygments_lexer": "ipython3",
   "version": "3.13.2"
  }
 },
 "nbformat": 4,
 "nbformat_minor": 5
}
